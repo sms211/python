{
 "cells": [
  {
   "cell_type": "markdown",
   "id": "59a12b10",
   "metadata": {},
   "source": [
    "### 하이픽셀 최고다"
   ]
  },
  {
   "cell_type": "code",
   "execution_count": 1,
   "id": "b513aab7",
   "metadata": {},
   "outputs": [],
   "source": [
    "from selenium import webdriver\n",
    "import time\n",
    "from selenium.webdriver.common.keys import Keys"
   ]
  },
  {
   "cell_type": "code",
   "execution_count": 12,
   "id": "1594d226",
   "metadata": {
    "scrolled": true
   },
   "outputs": [
    {
     "name": "stderr",
     "output_type": "stream",
     "text": [
      "C:\\Users\\a\\AppData\\Local\\Temp/ipykernel_9752/3854778951.py:1: DeprecationWarning: executable_path has been deprecated, please pass in a Service object\n",
      "  driver = webdriver.Chrome(\"./chromedriver\")\n"
     ]
    }
   ],
   "source": [
    "driver = webdriver.Chrome(\"./chromedriver\")"
   ]
  },
  {
   "cell_type": "code",
   "execution_count": 13,
   "id": "90a90fc7",
   "metadata": {},
   "outputs": [],
   "source": [
    "url = \"https://www.youtube.com/\""
   ]
  },
  {
   "cell_type": "code",
   "execution_count": 14,
   "id": "8dc04003",
   "metadata": {},
   "outputs": [],
   "source": [
    "driver.get(url)"
   ]
  },
  {
   "cell_type": "code",
   "execution_count": 15,
   "id": "363db088",
   "metadata": {},
   "outputs": [
    {
     "name": "stderr",
     "output_type": "stream",
     "text": [
      "C:\\Users\\a\\AppData\\Local\\Temp/ipykernel_9752/585032373.py:4: DeprecationWarning: find_elements_by_xpath is deprecated. Please use find_elements(by=By.XPATH, value=xpath) instead\n",
      "  search = driver.find_elements_by_xpath('//*[@id=\"search\"]')[1]\n"
     ]
    }
   ],
   "source": [
    "time.sleep(3)\n",
    "\n",
    "#검색어 창을 찾아 search 변수에 저장\n",
    "search = driver.find_elements_by_xpath('//*[@id=\"search\"]')[1]\n",
    "\n",
    "#search 변수에 저장된 곳에 값을 전송\n",
    "유튜버이름 = \"김재원\"\n",
    "search.send_keys(유튜버이름)\n",
    "time.sleep(1)\n",
    "\n",
    "search.send_keys(Keys.ENTER)"
   ]
  },
  {
   "cell_type": "code",
   "execution_count": null,
   "id": "9fa2ad68",
   "metadata": {},
   "outputs": [],
   "source": [
    "driver = webdriver.Chrome(\"./chromedriver\")\n",
    "\n",
    "driver.get(\"http://naver.com\")\n",
    "\n",
    "elem = driver.find_element_by_class_name(\"link_login\")\n",
    "elem.click()\n",
    "\n",
    "driver.find_element_by_id(\"id\").send_keys(\"naver_id\")\n",
    "driver.find_element_by_id(\"pw\").send_keys(\"naver_password\")\n",
    "\n",
    "driver.find_element_by_id(\"log.login\").click()"
   ]
  },
  {
   "cell_type": "code",
   "execution_count": null,
   "id": "4ea40be5",
   "metadata": {},
   "outputs": [],
   "source": []
  }
 ],
 "metadata": {
  "kernelspec": {
   "display_name": "Python 3 (ipykernel)",
   "language": "python",
   "name": "python3"
  },
  "language_info": {
   "codemirror_mode": {
    "name": "ipython",
    "version": 3
   },
   "file_extension": ".py",
   "mimetype": "text/x-python",
   "name": "python",
   "nbconvert_exporter": "python",
   "pygments_lexer": "ipython3",
   "version": "3.9.7"
  }
 },
 "nbformat": 4,
 "nbformat_minor": 5
}
