{
 "cells": [
  {
   "cell_type": "code",
   "execution_count": 1,
   "id": "64bcb227",
   "metadata": {},
   "outputs": [],
   "source": [
    "import random"
   ]
  },
  {
   "cell_type": "code",
   "execution_count": 2,
   "id": "96d7c683",
   "metadata": {
    "scrolled": true
   },
   "outputs": [],
   "source": [
    "정답리스트 = [\"penguin\",\"quinquatrigintillion\",\"sonic\",\"\",\"bacon\",\"sans\",\"creeper\",\"aaaaaaaaaaaaaaaaaaaaaaaaaaaaaaaaaaaaaaaaaaaaaaaaaaaaaaaaaaaaaaaaaaaaaaaaaa\"]\n",
    "정답 = random.choice(정답리스트)\n",
    "누적입력알파벳 = \"\"\n",
    "남은기회 = 10"
   ]
  },
  {
   "cell_type": "code",
   "execution_count": null,
   "id": "93332c51",
   "metadata": {},
   "outputs": [],
   "source": []
  },
  {
   "cell_type": "code",
   "execution_count": 3,
   "id": "249f8f18",
   "metadata": {},
   "outputs": [
    {
     "name": "stdout",
     "output_type": "stream",
     "text": [
      "남은 기회는 10번 입니다.\n",
      "_ _ _ _ _ 알파벳을 한 글자만 입력해주세요 : e\n",
      "남은 기회는 9번 입니다.\n",
      "_ _ _ _ _ 알파벳을 한 글자만 입력해주세요 : s\n",
      "남은 기회는 8번 입니다.\n",
      "s _ _ _ _ 알파벳을 한 글자만 입력해주세요 : on\n",
      "두 글자 이상을 립력하셨습니다.다시 입력해주세요\n",
      "알파벳을 한 글자만 입력해주세요 : o\n",
      "남은 기회는 7번 입니다.\n",
      "s o _ _ _ 알파벳을 한 글자만 입력해주세요 : n\n",
      "남은 기회는 6번 입니다.\n",
      "s o n _ _ 알파벳을 한 글자만 입력해주세요 : i\n",
      "남은 기회는 5번 입니다.\n",
      "s o n i _ 알파벳을 한 글자만 입력해주세요 : c\n",
      "남은 기회는 4번 입니다.\n",
      "s o n i c 정답입니다\n"
     ]
    }
   ],
   "source": [
    "while(True):\n",
    "    if 남은기회 <= 0:\n",
    "        print(\"실패하셨습니다.\")\n",
    "        break\n",
    "    print(f\"남은 기회는 {남은기회}번 입니다.\")\n",
    "    남은기회 -= 1\n",
    "    \n",
    "        \n",
    "        \n",
    "    성공여부 = True\n",
    "    for 알파벳 in 정답:\n",
    "        if 알파벳 in 누적입력알파벳:\n",
    "            print(알파벳, end=\" \")\n",
    "        else:\n",
    "            print(\"_\", end=\" \")\n",
    "            성공여부 = False\n",
    "            \n",
    "    if 성공여부 == True:\n",
    "        print(\"정답입니다\")\n",
    "        break\n",
    "        \n",
    "        \n",
    "    while(True):\n",
    "        입력알파벳 = input(\"알파벳을 한 글자만 입력해주세요 : \")\n",
    "        if len(입력알파벳) == 1:\n",
    "            break\n",
    "        else:\n",
    "            print(\"두 글자 이상을 립력하셨습니다.다시 입력해주세요\")\n",
    "    if 입력알파벳 not in 누적입력알파벳:        \n",
    "        누적입력알파벳 += 입력알파벳"
   ]
  },
  {
   "cell_type": "code",
   "execution_count": 26,
   "id": "e60bd0ba",
   "metadata": {},
   "outputs": [
    {
     "name": "stdout",
     "output_type": "stream",
     "text": [
      "알파벳을 한 글자만 입력해주세요 : a\\\n",
      "두 글자 이상을 립력하셨습니다.다시 입력해주세요\n",
      "알파벳을 한 글자만 입력해주세요 : a\n"
     ]
    }
   ],
   "source": [
    "while(True):\n",
    "    입력알파벳 = input(\"알파벳을 한 글자만 입력해주세요 : \")\n",
    "    if len(입력알파벳) == 1:\n",
    "        break\n",
    "    else:\n",
    "        print(\"두 글자 이상을 립력하셨습니다.다시 입력해주세요\")"
   ]
  },
  {
   "cell_type": "code",
   "execution_count": 27,
   "id": "80f5cb6a",
   "metadata": {},
   "outputs": [
    {
     "name": "stdout",
     "output_type": "stream",
     "text": [
      "_ _ _ _ _ _ _ "
     ]
    }
   ],
   "source": [
    "for 알파벳 in 정답:\n",
    "    if 알파벳 in 누적입력알파벳:\n",
    "        print(알파벳, end=\" \")\n",
    "    else:\n",
    "        print(\"_\", end=\" \")"
   ]
  },
  {
   "cell_type": "code",
   "execution_count": 39,
   "id": "321a695c",
   "metadata": {},
   "outputs": [
    {
     "name": "stdout",
     "output_type": "stream",
     "text": [
      "알파벳을 한 글자만 입력해주세요 : i\n",
      "p e n g u i n "
     ]
    }
   ],
   "source": [
    "while(True):\n",
    "    입력알파벳 = input(\"알파벳을 한 글자만 입력해주세요 : \")\n",
    "    if len(입력알파벳) == 1:\n",
    "        break\n",
    "    else:\n",
    "        print(\"두 글자 이상을 립력하셨습니다.다시 입력해주세요\")\n",
    "누적입력알파벳 += 입력알파벳\n",
    "for 알파벳 in 정답:\n",
    "    if 알파벳 in 누적입력알파벳:\n",
    "        print(알파벳, end=\" \")\n",
    "    else:\n",
    "        print(\"_\", end=\" \")"
   ]
  },
  {
   "cell_type": "code",
   "execution_count": null,
   "id": "f3c210c5",
   "metadata": {},
   "outputs": [],
   "source": []
  }
 ],
 "metadata": {
  "kernelspec": {
   "display_name": "Python 3 (ipykernel)",
   "language": "python",
   "name": "python3"
  },
  "language_info": {
   "codemirror_mode": {
    "name": "ipython",
    "version": 3
   },
   "file_extension": ".py",
   "mimetype": "text/x-python",
   "name": "python",
   "nbconvert_exporter": "python",
   "pygments_lexer": "ipython3",
   "version": "3.9.7"
  }
 },
 "nbformat": 4,
 "nbformat_minor": 5
}
