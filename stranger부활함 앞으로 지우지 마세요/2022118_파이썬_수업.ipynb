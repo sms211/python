{
 "cells": [
  {
   "cell_type": "markdown",
   "id": "8421d113",
   "metadata": {},
   "source": [
    "### 마크 1.18버전에 1월 18일"
   ]
  },
  {
   "cell_type": "markdown",
   "id": "2bfaf9b0",
   "metadata": {},
   "source": [
    "### 1"
   ]
  },
  {
   "cell_type": "code",
   "execution_count": 10,
   "id": "617f44f9",
   "metadata": {},
   "outputs": [
    {
     "name": "stdout",
     "output_type": "stream",
     "text": [
      "국어 점수 입력80\n",
      "영어 점수 입력75\n",
      "수학 점수 입력55\n",
      "70.0\n"
     ]
    },
    {
     "data": {
      "text/plain": [
       "70.0"
      ]
     },
     "execution_count": 10,
     "metadata": {},
     "output_type": "execute_result"
    }
   ],
   "source": [
    "def avg(ko, en, mt):\n",
    "    total = (ko + en + mt)\n",
    "    result = total / 3\n",
    "    print(result)\n",
    "    return result\n",
    "\n",
    "ko = int(input(\"국어 점수 입력\"))\n",
    "en = int(input(\"영어 점수 입력\"))\n",
    "mt = int(input(\"수학 점수 입력\"))\n",
    "avg(ko, en, mt)"
   ]
  },
  {
   "cell_type": "markdown",
   "id": "c8ef94fc",
   "metadata": {},
   "source": [
    "### 2"
   ]
  },
  {
   "cell_type": "code",
   "execution_count": 14,
   "id": "2e615c72",
   "metadata": {},
   "outputs": [],
   "source": [
    "case1 = [100, 95, 100]\n",
    "case2 = [100, 95, 100, 85, 90]\n",
    "def avg_new(subject):\n",
    "    total = sum(subject)    #리스트의 총합을 구해준다\n",
    "    result = total / len(subject)    #리스트의 길이를 구해준다\n",
    "    return result\n"
   ]
  },
  {
   "cell_type": "code",
   "execution_count": 15,
   "id": "b97a12cd",
   "metadata": {},
   "outputs": [
    {
     "data": {
      "text/plain": [
       "94.0"
      ]
     },
     "execution_count": 15,
     "metadata": {},
     "output_type": "execute_result"
    }
   ],
   "source": [
    "avg_new(case1)\n",
    "avg_new(case2)"
   ]
  },
  {
   "cell_type": "code",
   "execution_count": 18,
   "id": "b0fcc17f",
   "metadata": {},
   "outputs": [
    {
     "name": "stdout",
     "output_type": "stream",
     "text": [
      "Requirement already satisfied: googletrans==4.0.0-rc1 in c:\\users\\a\\anaconda3\\lib\\site-packages (4.0.0rc1)\n",
      "Requirement already satisfied: httpx==0.13.3 in c:\\users\\a\\anaconda3\\lib\\site-packages (from googletrans==4.0.0-rc1) (0.13.3)\n",
      "Requirement already satisfied: chardet==3.* in c:\\users\\a\\anaconda3\\lib\\site-packages (from httpx==0.13.3->googletrans==4.0.0-rc1) (3.0.4)\n",
      "Requirement already satisfied: sniffio in c:\\users\\a\\anaconda3\\lib\\site-packages (from httpx==0.13.3->googletrans==4.0.0-rc1) (1.2.0)\n",
      "Requirement already satisfied: hstspreload in c:\\users\\a\\anaconda3\\lib\\site-packages (from httpx==0.13.3->googletrans==4.0.0-rc1) (2021.12.1)\n",
      "Requirement already satisfied: rfc3986<2,>=1.3 in c:\\users\\a\\anaconda3\\lib\\site-packages (from httpx==0.13.3->googletrans==4.0.0-rc1) (1.5.0)\n",
      "Requirement already satisfied: httpcore==0.9.* in c:\\users\\a\\anaconda3\\lib\\site-packages (from httpx==0.13.3->googletrans==4.0.0-rc1) (0.9.1)\n",
      "Requirement already satisfied: idna==2.* in c:\\users\\a\\anaconda3\\lib\\site-packages (from httpx==0.13.3->googletrans==4.0.0-rc1) (2.10)\n",
      "Requirement already satisfied: certifi in c:\\users\\a\\anaconda3\\lib\\site-packages (from httpx==0.13.3->googletrans==4.0.0-rc1) (2021.10.8)\n",
      "Requirement already satisfied: h11<0.10,>=0.8 in c:\\users\\a\\anaconda3\\lib\\site-packages (from httpcore==0.9.*->httpx==0.13.3->googletrans==4.0.0-rc1) (0.9.0)\n",
      "Requirement already satisfied: h2==3.* in c:\\users\\a\\anaconda3\\lib\\site-packages (from httpcore==0.9.*->httpx==0.13.3->googletrans==4.0.0-rc1) (3.2.0)\n",
      "Requirement already satisfied: hpack<4,>=3.0 in c:\\users\\a\\anaconda3\\lib\\site-packages (from h2==3.*->httpcore==0.9.*->httpx==0.13.3->googletrans==4.0.0-rc1) (3.0.0)\n",
      "Requirement already satisfied: hyperframe<6,>=5.2.0 in c:\\users\\a\\anaconda3\\lib\\site-packages (from h2==3.*->httpcore==0.9.*->httpx==0.13.3->googletrans==4.0.0-rc1) (5.2.0)\n"
     ]
    }
   ],
   "source": [
    "!pip install googletrans==4.0.0-rc1"
   ]
  },
  {
   "cell_type": "code",
   "execution_count": null,
   "id": "bbcb1333",
   "metadata": {
    "scrolled": true
   },
   "outputs": [],
   "source": [
    "import googletrans\n",
    "translator = googletrans.Translator()\n",
    "\n",
    "str1 = input()\n",
    "str2 = input()\n",
    "\n",
    "result1 = translator.translate(str1, dest=\"en\")\n",
    "result2 = translator.translate(str2, dest=\"ko\")\n",
    "\n",
    "print(f\"{str1} => {result1.text}\")\n",
    "print(f\"{str2} => {result2.text}\")"
   ]
  },
  {
   "cell_type": "code",
   "execution_count": null,
   "id": "d20acd8c",
   "metadata": {},
   "outputs": [],
   "source": []
  }
 ],
 "metadata": {
  "kernelspec": {
   "display_name": "Python 3 (ipykernel)",
   "language": "python",
   "name": "python3"
  },
  "language_info": {
   "codemirror_mode": {
    "name": "ipython",
    "version": 3
   },
   "file_extension": ".py",
   "mimetype": "text/x-python",
   "name": "python",
   "nbconvert_exporter": "python",
   "pygments_lexer": "ipython3",
   "version": "3.9.7"
  }
 },
 "nbformat": 4,
 "nbformat_minor": 5
}
