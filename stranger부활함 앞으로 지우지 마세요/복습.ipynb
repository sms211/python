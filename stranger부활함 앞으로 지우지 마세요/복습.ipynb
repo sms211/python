{
 "cells": [
  {
   "cell_type": "code",
   "execution_count": 33,
   "id": "e1f9ff42",
   "metadata": {},
   "outputs": [
    {
     "name": "stdout",
     "output_type": "stream",
     "text": [
      "70.0\n"
     ]
    }
   ],
   "source": [
    "korean = 80\n",
    "english = 75\n",
    "math = 55\n",
    "\n",
    "score_avg = (korean + english + math) / 3\n",
    "print(score_avg)"
   ]
  },
  {
   "cell_type": "code",
   "execution_count": 34,
   "id": "23995185",
   "metadata": {},
   "outputs": [
    {
     "name": "stdout",
     "output_type": "stream",
     "text": [
      "13은(는) 홀수입니다\n"
     ]
    }
   ],
   "source": [
    "숫자 = 13\n",
    "\n",
    "if (숫자 % 2 == 1):\n",
    "    print(f\"{숫자}은(는) 홀수입니다\")\n",
    "else:\n",
    "    print(f\"{숫자}은(는) 짝수입니다\")"
   ]
  },
  {
   "cell_type": "code",
   "execution_count": 35,
   "id": "34e1b69f",
   "metadata": {},
   "outputs": [
    {
     "name": "stdout",
     "output_type": "stream",
     "text": [
      "881120\n",
      "1068234\n"
     ]
    }
   ],
   "source": [
    "pin = \"881120-1068234\"\n",
    "앞자리 = pin[0:6]\n",
    "뒷자리 = pin[7:14]\n",
    "print(앞자리)\n",
    "print(뒷자리)"
   ]
  },
  {
   "cell_type": "code",
   "execution_count": 36,
   "id": "5689463f",
   "metadata": {},
   "outputs": [
    {
     "name": "stdout",
     "output_type": "stream",
     "text": [
      "남성입니다\n"
     ]
    }
   ],
   "source": [
    "성별 = 뒷자리[0]\n",
    "if 성별 == \"1\":\n",
    "    print(\"남성입니다\")\n",
    "else:\n",
    "    print(\"여성입니다\")"
   ]
  },
  {
   "cell_type": "code",
   "execution_count": 37,
   "id": "0c1751c0",
   "metadata": {},
   "outputs": [
    {
     "data": {
      "text/plain": [
       "'a#b#c#d'"
      ]
     },
     "execution_count": 37,
     "metadata": {},
     "output_type": "execute_result"
    }
   ],
   "source": [
    "예시문자열 = \"a:b:c:d\"\n",
    "예시문자열.replace(\":\",\"#\")"
   ]
  },
  {
   "cell_type": "code",
   "execution_count": 38,
   "id": "2d24a4ca",
   "metadata": {},
   "outputs": [
    {
     "name": "stdout",
     "output_type": "stream",
     "text": [
      "[1, 2, 3, 4, 5]\n"
     ]
    }
   ],
   "source": [
    "number = [1,3,5,4,2]\n",
    "number.reverse()\n",
    "number.sort()\n",
    "print(number)"
   ]
  },
  {
   "cell_type": "code",
   "execution_count": 51,
   "id": "031e5659",
   "metadata": {},
   "outputs": [
    {
     "name": "stdout",
     "output_type": "stream",
     "text": [
      "life is too short\n"
     ]
    }
   ],
   "source": [
    "python = [\"life\", \"is\", \"too\", \"short\"]\n",
    "python = \" \".join(python)\n",
    "print(python)"
   ]
  },
  {
   "cell_type": "code",
   "execution_count": 40,
   "id": "55af24ab",
   "metadata": {},
   "outputs": [
    {
     "data": {
      "text/plain": [
       "80"
      ]
     },
     "execution_count": 40,
     "metadata": {},
     "output_type": "execute_result"
    }
   ],
   "source": [
    "a = {\"A\":90, \"B\":80, \"C\":70}\n",
    "a.pop(\"B\")"
   ]
  },
  {
   "cell_type": "code",
   "execution_count": 52,
   "id": "e50c029c",
   "metadata": {
    "scrolled": true
   },
   "outputs": [
    {
     "data": {
      "text/plain": [
       "['life', 'is', 'too', 'short']"
      ]
     },
     "execution_count": 52,
     "metadata": {},
     "output_type": "execute_result"
    }
   ],
   "source": [
    "python.split(\" \")"
   ]
  },
  {
   "cell_type": "code",
   "execution_count": 57,
   "id": "d62327b6",
   "metadata": {},
   "outputs": [],
   "source": [
    "asdf = \"asdfasdfasdf\""
   ]
  },
  {
   "cell_type": "code",
   "execution_count": 66,
   "id": "e101d7d7",
   "metadata": {},
   "outputs": [],
   "source": [
    "alist = [3, 1, 3, 4, 5]\n",
    "alist.remove(3)"
   ]
  },
  {
   "cell_type": "code",
   "execution_count": 67,
   "id": "7f421054",
   "metadata": {},
   "outputs": [
    {
     "data": {
      "text/plain": [
       "[1, 3, 4, 5]"
      ]
     },
     "execution_count": 67,
     "metadata": {},
     "output_type": "execute_result"
    }
   ],
   "source": [
    "alist"
   ]
  },
  {
   "cell_type": "code",
   "execution_count": 64,
   "id": "55b5b3b4",
   "metadata": {},
   "outputs": [
    {
     "data": {
      "text/plain": [
       "1"
      ]
     },
     "execution_count": 64,
     "metadata": {},
     "output_type": "execute_result"
    }
   ],
   "source": [
    "alist.pop(0)"
   ]
  },
  {
   "cell_type": "code",
   "execution_count": null,
   "id": "2bdbab6f",
   "metadata": {},
   "outputs": [],
   "source": []
  }
 ],
 "metadata": {
  "kernelspec": {
   "display_name": "Python 3 (ipykernel)",
   "language": "python",
   "name": "python3"
  },
  "language_info": {
   "codemirror_mode": {
    "name": "ipython",
    "version": 3
   },
   "file_extension": ".py",
   "mimetype": "text/x-python",
   "name": "python",
   "nbconvert_exporter": "python",
   "pygments_lexer": "ipython3",
   "version": "3.9.7"
  }
 },
 "nbformat": 4,
 "nbformat_minor": 5
}
