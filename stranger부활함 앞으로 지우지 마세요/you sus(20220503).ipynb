{
 "cells": [
  {
   "cell_type": "markdown",
   "id": "3150a672",
   "metadata": {},
   "source": [
    "### <p style=color:blue>20220503 파이썬 수업</p>"
   ]
  },
  {
   "cell_type": "code",
   "execution_count": 8,
   "id": "ed777a17",
   "metadata": {},
   "outputs": [],
   "source": [
    "import pyautogui as pt\n",
    "import time"
   ]
  },
  {
   "cell_type": "code",
   "execution_count": 9,
   "id": "eb446e53",
   "metadata": {},
   "outputs": [],
   "source": [
    "비행기 = \"미레도레미미미 레레레 미미미 미레도레미미미 레레미레도\"\n",
    "creepy = \"0958095454986984695955986408958054353534534553768909879658437265435768795862052354920820945209859208590238959234856764068\""
   ]
  },
  {
   "cell_type": "code",
   "execution_count": 10,
   "id": "6fdd50e5",
   "metadata": {},
   "outputs": [
    {
     "name": "stdout",
     "output_type": "stream",
     "text": [
      "one\n",
      "two\n",
      "three\n"
     ]
    }
   ],
   "source": [
    "test_list = [\"one\", \"two\", \"three\"]\n",
    "for i in test_list:\n",
    "    print(i)"
   ]
  },
  {
   "cell_type": "code",
   "execution_count": 7,
   "id": "3fe31c03",
   "metadata": {},
   "outputs": [
    {
     "ename": "NameError",
     "evalue": "name '계이름' is not defined",
     "output_type": "error",
     "traceback": [
      "\u001b[1;31m---------------------------------------------------------------------------\u001b[0m",
      "\u001b[1;31mNameError\u001b[0m                                 Traceback (most recent call last)",
      "\u001b[1;32m~\\AppData\\Local\\Temp/ipykernel_2016/1576374917.py\u001b[0m in \u001b[0;36m<module>\u001b[1;34m\u001b[0m\n\u001b[0;32m      4\u001b[0m         \u001b[0mtime\u001b[0m\u001b[1;33m.\u001b[0m\u001b[0msleep\u001b[0m\u001b[1;33m(\u001b[0m\u001b[1;36m0.2\u001b[0m\u001b[1;33m)\u001b[0m\u001b[1;33m\u001b[0m\u001b[1;33m\u001b[0m\u001b[0m\n\u001b[0;32m      5\u001b[0m     \u001b[1;32melse\u001b[0m\u001b[1;33m:\u001b[0m\u001b[1;33m\u001b[0m\u001b[1;33m\u001b[0m\u001b[0m\n\u001b[1;32m----> 6\u001b[1;33m         \u001b[0mpt\u001b[0m\u001b[1;33m.\u001b[0m\u001b[0mpress\u001b[0m\u001b[1;33m(\u001b[0m\u001b[0m계이름\u001b[0m\u001b[1;33m[\u001b[0m\u001b[0mi\u001b[0m\u001b[1;33m]\u001b[0m\u001b[1;33m)\u001b[0m\u001b[1;33m\u001b[0m\u001b[1;33m\u001b[0m\u001b[0m\n\u001b[0m\u001b[0;32m      7\u001b[0m         \u001b[0mtime\u001b[0m\u001b[1;33m.\u001b[0m\u001b[0msleep\u001b[0m\u001b[1;33m(\u001b[0m\u001b[1;36m0.1\u001b[0m\u001b[1;33m)\u001b[0m\u001b[1;33m\u001b[0m\u001b[1;33m\u001b[0m\u001b[0m\n",
      "\u001b[1;31mNameError\u001b[0m: name '계이름' is not defined"
     ]
    }
   ],
   "source": [
    "time.sleep(3) #시간벌기\n",
    "for i in 비행기:\n",
    "    if i ==\" \":\n",
    "        time.sleep(0.2)\n",
    "    else:\n",
    "        pt.press(계이름[i])\n",
    "        time.sleep(0.1)"
   ]
  },
  {
   "cell_type": "code",
   "execution_count": 12,
   "id": "3eaea8af",
   "metadata": {},
   "outputs": [],
   "source": [
    "time.sleep(3) #시간벌기\n",
    "for i in creepy:\n",
    "    if i in creepy:\n",
    "        if i ==\" \":\n",
    "            time.sleep(0)\n",
    "        else:\n",
    "            pt.press(i)"
   ]
  },
  {
   "cell_type": "code",
   "execution_count": 11,
   "id": "6c99758e",
   "metadata": {},
   "outputs": [],
   "source": [
    "계이름 = {\"도\":\"1\",\"레\":\"3\",\"미\":\"5\"}"
   ]
  },
  {
   "cell_type": "code",
   "execution_count": null,
   "id": "9155b117",
   "metadata": {},
   "outputs": [],
   "source": []
  }
 ],
 "metadata": {
  "kernelspec": {
   "display_name": "Python 3 (ipykernel)",
   "language": "python",
   "name": "python3"
  },
  "language_info": {
   "codemirror_mode": {
    "name": "ipython",
    "version": 3
   },
   "file_extension": ".py",
   "mimetype": "text/x-python",
   "name": "python",
   "nbconvert_exporter": "python",
   "pygments_lexer": "ipython3",
   "version": "3.9.7"
  }
 },
 "nbformat": 4,
 "nbformat_minor": 5
}
