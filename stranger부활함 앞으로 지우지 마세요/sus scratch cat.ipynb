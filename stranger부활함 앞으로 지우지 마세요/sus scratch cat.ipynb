{
 "cells": [
  {
   "cell_type": "markdown",
   "id": "c2e96161",
   "metadata": {},
   "source": [
    "<p style=color:blue>3/29 파이썬 수업</p>"
   ]
  },
  {
   "cell_type": "code",
   "execution_count": 2,
   "id": "394a421b",
   "metadata": {},
   "outputs": [],
   "source": [
    "import random\n",
    "레어 = 69.4\n",
    "슈퍼레어 = 25\n",
    "울슈레 = 5\n",
    "레레 = 0.6"
   ]
  },
  {
   "cell_type": "code",
   "execution_count": 3,
   "id": "d2a970dc",
   "metadata": {
    "scrolled": false
   },
   "outputs": [
    {
     "name": "stdout",
     "output_type": "stream",
     "text": [
      "7.5\n"
     ]
    }
   ],
   "source": [
    "choice = random.random() * 100\n",
    "choice = round(choice,1)\n",
    "print(choice)"
   ]
  },
  {
   "cell_type": "code",
   "execution_count": 4,
   "id": "99281dd1",
   "metadata": {},
   "outputs": [],
   "source": [
    "rarelist = [\"고양이 겨털츄\", \"고양이 뽀로로\", \"고양이 잼민이\"]\n",
    "superlist = [\"푸린 폭격기\", \"김고양이\", \"버섯!고양이\"]\n",
    "ultralist = [\"소닉 고양이\", \"아모구스\", \"엔더맨\"]\n",
    "legendlist = [\"마리오\", \"루이지\", \"스크래치 캣\", \"여섯!버섯!고양이\", \"울트라 슈퍼 캡숑 고양이\", \"엔더드래곤\"]"
   ]
  },
  {
   "cell_type": "code",
   "execution_count": 5,
   "id": "227f6f7f",
   "metadata": {},
   "outputs": [],
   "source": [
    "import pyautogui as pt #아래로부터 2번째가 더 좋아요\n",
    "start = pt.confirm(text=\"시작하실건가요?\", title=\"냥코 뽑기 시뮬레이터(이 프로그램은 실제 동일한 확률로 제작 되었습니다.)\", buttons=[\"네\", \"아니요\"])\n",
    "if start == \"네\":\n",
    "    choice = random.random() * 100\n",
    "    choice = round(choice,1)\n",
    "    if choice < 레어:\n",
    "        answer = pt.confirm(text=\"결과를 확인하실 건가요??\", title=\"냥코 뽑기 시뮬레이터\", buttons=[\"네\", \"아니요\"])\n",
    "        if answer == \"네\":\n",
    "            pt.alert(text=f\"레어!{random.choice(rarelist)}\", title = \"냥코 뽑기 시뮬레이터\", button=(\"ok\"))\n",
    "        else:\n",
    "            pt.alert(text=\"Error\", title = \"Error\", button = (\"ok\"))\n",
    "    elif choice >= 레어 and choice < 레어 + 슈퍼레어:\n",
    "        answer = pt.confirm(text=\"결과를 확인하실 건가요??\", title=\"냥코 뽑기 시뮬레이터\", buttons=[\"네\", \"아니요\"])\n",
    "        if answer == \"네\":\n",
    "            pt.alert(text=f\"슈퍼 레어!{random.choice(superlist)}\", title = \"냥코 뽑기 시뮬레이터\", button = (\"ok\"))\n",
    "        else:\n",
    "              pt.alert(text=\"Error\", title = \"Error\", button = (\"ok\"))\n",
    "    elif choice >= 레어 + 슈퍼레어 and choice < 레어 + 슈퍼레어 + 울슈레:\n",
    "        answer = pt.confirm(text=\"결과를 확인하실 건가요??\", title=\"냥코 뽑기 시뮬레이터\", buttons=[\"네\", \"아니요\"])\n",
    "        if answer == \"네\":\n",
    "            pt.alert(text=f\"울트라 슈퍼 레어!{random.choice(ultralist)}\", title = \"냥코 뽑기 시뮬레이터\", button = (\"ok\"))\n",
    "        else:\n",
    "            pt.alert(text=\"Error\", title = \"Error\", button = (\"ok\"))\n",
    "    else :\n",
    "        pt.alert(\"레전드레어!!!\")\n",
    "        pt.alert(\"레전드레어!!!\")\n",
    "        pt.alert(\"레전드레어!!!\")\n",
    "        pt.alert(random.choice(legendlist))"
   ]
  },
  {
   "cell_type": "code",
   "execution_count": 6,
   "id": "da24d7b9",
   "metadata": {},
   "outputs": [],
   "source": [
    "import pyautogui as pt #아래꺼하세요\n",
    "def random_ppal():\n",
    "    choice = random.random() * 100\n",
    "    choice = round(choice,1)\n",
    "    if choice < 레어:\n",
    "        pt.alert(text=f\"레어!{random.choice(rarelist)}\", title = \"냥코 뽑기 시뮬레이터\", button=(\"ok\"))\n",
    "    elif choice >= 레어 and choice < 레어 + 슈퍼레어:\n",
    "        pt.alert(text=f\"슈퍼 레어!{random.choice(superlist)}\", title = \"냥코 뽑기 시뮬레이터\", button = (\"ok\"))\n",
    "    elif choice >= 레어 + 슈퍼레어 and choice < 레어 + 슈퍼레어 + 울슈레:\n",
    "        pt.alert(text=f\"울트라 슈퍼 레어!{random.choice(ultralist)}\", title = \"냥코 뽑기 시뮬레이터\", button = (\"ok\"))\n",
    "    else :\n",
    "        pt.alert(\"레전드레어!!!\")\n",
    "        pt.alert(\"레전드레어!!!\")\n",
    "        pt.alert(\"레전드레어!!!\")\n",
    "        pt.alert(random.choice(legendlist))"
   ]
  },
  {
   "cell_type": "code",
   "execution_count": 7,
   "id": "67bc79bd",
   "metadata": {
    "scrolled": true
   },
   "outputs": [],
   "source": [
    "import pyautogui as pt\n",
    "while(True):\n",
    "    use_check = pt.confirm(text=\"레어뽑기하실래유?\", buttons=[\"한다\", \"안 한다\"], title=\"냥코 뽑기 시뮬레이터\")\n",
    "    if use_check == \"한다\":\n",
    "        random_ppal()\n",
    "    else:\n",
    "        break"
   ]
  },
  {
   "cell_type": "code",
   "execution_count": 8,
   "id": "8262f9fa",
   "metadata": {},
   "outputs": [],
   "source": [
    "import pyautogui as pt\n",
    "count = 0\n",
    "while(True):\n",
    "    use_check = pt.confirm(text=\"레어뽑기하실래유?\", buttons=[\"한다\", \"안 한다\"], title=\"냥코 뽑기 시뮬레이터\")\n",
    "    if use_check == \"한다\":\n",
    "        random_ppal()\n",
    "        count += 1\n",
    "        pt.alert(text=f\"내가 쓴 돈 = {count * 4500}\")\n",
    "    else:\n",
    "        break"
   ]
  },
  {
   "cell_type": "code",
   "execution_count": 12,
   "id": "45c36974",
   "metadata": {},
   "outputs": [],
   "source": [
    "import pyautogui as pt #아래꺼하세요\n",
    "def make_ultra():\n",
    "    choice = random.random() * 100\n",
    "    choice = round(choice,1)\n",
    "    if choice < 레어:\n",
    "        pt.confirm(text=f\"레어!{random.choice(rarelist)}\", title = \"냥코 뽑기 시뮬레이터\", buttons=[\"ok\", \"ok\"])\n",
    "    elif choice >= 레어 and choice < 레어 + 슈퍼레어:\n",
    "        pt.confirm(text=f\"슈퍼 레어!{random.choice(superlist)}\", title = \"냥코 뽑기 시뮬레이터\", buttons = [\"ok\", \"ok\"])\n",
    "    elif choice >= 레어 + 슈퍼레어 and choice < 레어 + 슈퍼레어 + 울슈레:\n",
    "        pt.confirm(text=f\"울트라 슈퍼 레어!{random.choice(ultralist)}\", title = \"냥코 뽑기 시뮬레이터\", buttons = [\"ok\"])\n",
    "    else :\n",
    "        pt.alert(\"레전드레어!!!\")\n",
    "        pt.alert(\"레전드레어!!!\")\n",
    "        pt.alert(\"레전드레어!!!\")\n",
    "        pt.confirm(text=\"good!\", title=\"good!\", buttons=[\"ok!\"])\n",
    "        pt.alert(random.choice(legendlist))"
   ]
  },
  {
   "cell_type": "code",
   "execution_count": 14,
   "id": "8bf8f6ff",
   "metadata": {},
   "outputs": [],
   "source": [
    "import pyautogui as pt #레레 뽑기\n",
    "while(True):\n",
    "    use_check = pt.confirm(text=\"레어뽑기하실래유?\", buttons=[\"한다\", \"안 한다\"], title=\"레레 뽑기\")\n",
    "    if use_check == \"한다\":\n",
    "        make_ultra()\n",
    "    else:\n",
    "        break"
   ]
  },
  {
   "cell_type": "code",
   "execution_count": 240,
   "id": "b7e4e1ce",
   "metadata": {},
   "outputs": [
    {
     "data": {
      "text/plain": [
       "27.5"
      ]
     },
     "execution_count": 240,
     "metadata": {},
     "output_type": "execute_result"
    }
   ],
   "source": [
    "a = random.random() * 100\n",
    "round(a, 1)"
   ]
  },
  {
   "cell_type": "code",
   "execution_count": 241,
   "id": "bee394a1",
   "metadata": {},
   "outputs": [],
   "source": [
    "import pyautogui as pt\n",
    "def make_ultraa():\n",
    "    choice = random.random() * 100\n",
    "    choice = round(choice,1)\n",
    "    if choice < 레어:\n",
    "        make_ultraa()\n",
    "    elif choice >= 레어 and choice < 레어 + 슈퍼레어:\n",
    "        make_ultraa()\n",
    "    elif choice >= 레어 + 슈퍼레어 and choice < 레어 + 슈퍼레어 + 울슈레:\n",
    "        make_ultraa()\n",
    "    else :\n",
    "        pt.alert(\"레전드레어!!!\")\n",
    "        pt.alert(\"레전드레어!!!\")\n",
    "        pt.alert(\"레전드레어!!!\")\n",
    "        pt.confirm(text=\"good!\", title=\"good!\", buttons=[\"ok!\"])\n",
    "        pt.alert(random.choice(legendlist))"
   ]
  },
  {
   "cell_type": "code",
   "execution_count": 243,
   "id": "83790eed",
   "metadata": {},
   "outputs": [],
   "source": [
    "make_ultraa()"
   ]
  },
  {
   "cell_type": "code",
   "execution_count": null,
   "id": "906e3c61",
   "metadata": {},
   "outputs": [],
   "source": []
  }
 ],
 "metadata": {
  "kernelspec": {
   "display_name": "Python 3 (ipykernel)",
   "language": "python",
   "name": "python3"
  },
  "language_info": {
   "codemirror_mode": {
    "name": "ipython",
    "version": 3
   },
   "file_extension": ".py",
   "mimetype": "text/x-python",
   "name": "python",
   "nbconvert_exporter": "python",
   "pygments_lexer": "ipython3",
   "version": "3.9.7"
  }
 },
 "nbformat": 4,
 "nbformat_minor": 5
}
