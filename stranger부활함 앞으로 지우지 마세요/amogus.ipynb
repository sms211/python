{
 "cells": [
  {
   "cell_type": "markdown",
   "id": "d8bf1050",
   "metadata": {},
   "source": [
    "<h3 style=color:skyblue>20220222"
   ]
  },
  {
   "cell_type": "code",
   "execution_count": 2,
   "id": "ac370517",
   "metadata": {},
   "outputs": [],
   "source": [
    "ex = \"hello\""
   ]
  },
  {
   "cell_type": "code",
   "execution_count": 19,
   "id": "4f1cc9ab",
   "metadata": {},
   "outputs": [
    {
     "ename": "SyntaxError",
     "evalue": "invalid syntax (Temp/ipykernel_8520/4010925251.py, line 3)",
     "output_type": "error",
     "traceback": [
      "\u001b[1;36m  File \u001b[1;32m\"C:\\Users\\a\\AppData\\Local\\Temp/ipykernel_8520/4010925251.py\"\u001b[1;36m, line \u001b[1;32m3\u001b[0m\n\u001b[1;33m    for x in range\u001b[0m\n\u001b[1;37m                  ^\u001b[0m\n\u001b[1;31mSyntaxError\u001b[0m\u001b[1;31m:\u001b[0m invalid syntax\n"
     ]
    }
   ],
   "source": [
    "import random\n",
    "word = \"\"\n",
    "for x in range\n",
    "word = word +random.choice([\"q\", \"w\", \"e\", \"r\", \"t\", \"y\", \"u\", \"i\", \"o\", \"p\", \"a\", \"s\", \"d\", \"f\", \"g\", \"h\", \"j\", \"k\", \"l\", \"z\", \"x\", \"c\", \"v\", \"b\", \"n\", \"m\"])\n",
    "str(word)\n",
    "# 특정 \n",
    "#문자가 몇 개 있는지\n",
    "ex.count(\"l\")\n",
    "\n",
    "#특정 문자가 어디에 있는지\n",
    "ex.index(\"o\")\n",
    "\n",
    "#= (+없는거 써도 버그 안남)\n",
    "ex.find(\"l\")\n",
    "ex.find(\"t\")\n",
    "\n",
    "#join\n",
    "word.join([\"hi\", \"my\", \"name\", \"is\"])"
   ]
  },
  {
   "cell_type": "code",
   "execution_count": 34,
   "id": "cb3ff1b1",
   "metadata": {},
   "outputs": [
    {
     "data": {
      "text/plain": [
       "['y',\n",
       " '',\n",
       " '',\n",
       " 'o',\n",
       " '',\n",
       " '',\n",
       " 'u',\n",
       " '',\n",
       " '',\n",
       " 'a',\n",
       " '',\n",
       " 'r',\n",
       " '',\n",
       " '',\n",
       " 'e',\n",
       " '',\n",
       " '',\n",
       " '',\n",
       " 'f',\n",
       " '',\n",
       " 'o',\n",
       " '',\n",
       " '',\n",
       " '',\n",
       " '',\n",
       " 'o',\n",
       " '',\n",
       " '',\n",
       " '',\n",
       " '',\n",
       " 'l']"
      ]
     },
     "execution_count": 34,
     "metadata": {},
     "output_type": "execute_result"
    }
   ],
   "source": [
    "ex.upper()\n",
    "\n",
    "ex.lower()\n",
    "\n",
    "\"                           hi                           \".strip()\n",
    "\n",
    "ex.replace(\"h\", \"skddkflslakjf;djfsa;kjfaskf;aslkkfjsijfdze\")\n",
    "\n",
    "\"yiiioiiiuiiiaiiriiieiiiifiioiiiiioiiiiil\".split(\"i\")\n"
   ]
  },
  {
   "cell_type": "code",
   "execution_count": 35,
   "id": "7e965c9c",
   "metadata": {},
   "outputs": [
    {
     "data": {
      "text/plain": [
       "'a#b#c#d'"
      ]
     },
     "execution_count": 35,
     "metadata": {},
     "output_type": "execute_result"
    }
   ],
   "source": [
    "a = \"a:b:c:d\"\n",
    "a.replace(\":\", \"#\")"
   ]
  },
  {
   "cell_type": "code",
   "execution_count": 41,
   "id": "81de81cd",
   "metadata": {},
   "outputs": [
    {
     "data": {
      "text/plain": [
       "'Life is too short'"
      ]
     },
     "execution_count": 41,
     "metadata": {},
     "output_type": "execute_result"
    }
   ],
   "source": [
    "a = [\"Life\", \"is\", \"too\", \"short\"]\n",
    "\" \".join(a)"
   ]
  },
  {
   "cell_type": "code",
   "execution_count": 42,
   "id": "a2496784",
   "metadata": {},
   "outputs": [],
   "source": [
    "b =  \" \".join(a)"
   ]
  },
  {
   "cell_type": "code",
   "execution_count": 43,
   "id": "a626d50d",
   "metadata": {},
   "outputs": [
    {
     "name": "stdout",
     "output_type": "stream",
     "text": [
      "Life is too short\n"
     ]
    }
   ],
   "source": [
    "print(b)"
   ]
  },
  {
   "cell_type": "code",
   "execution_count": 44,
   "id": "ad5fd5b4",
   "metadata": {},
   "outputs": [
    {
     "data": {
      "text/plain": [
       "['Life', 'is', 'too', 'short']"
      ]
     },
     "execution_count": 44,
     "metadata": {},
     "output_type": "execute_result"
    }
   ],
   "source": [
    "b.split()"
   ]
  },
  {
   "cell_type": "code",
   "execution_count": 52,
   "id": "fa9fcd1e",
   "metadata": {},
   "outputs": [
    {
     "data": {
      "text/plain": [
       "'c'"
      ]
     },
     "execution_count": 52,
     "metadata": {},
     "output_type": "execute_result"
    }
   ],
   "source": [
    "a = [1, 2, 3, [\"a\", \"b\", \"c\"]]\n",
    "a[3][2]\n"
   ]
  },
  {
   "cell_type": "code",
   "execution_count": 56,
   "id": "69177ca4",
   "metadata": {},
   "outputs": [],
   "source": [
    "a[0] = [4, 4]"
   ]
  },
  {
   "cell_type": "code",
   "execution_count": 57,
   "id": "33e655e9",
   "metadata": {
    "scrolled": true
   },
   "outputs": [
    {
     "name": "stdout",
     "output_type": "stream",
     "text": [
      "[[4, 4], 2, 3, ['a', 'b', 'c']]\n"
     ]
    }
   ],
   "source": [
    "print(a)"
   ]
  },
  {
   "cell_type": "code",
   "execution_count": 75,
   "id": "5f7c1845",
   "metadata": {
    "scrolled": true
   },
   "outputs": [],
   "source": [
    "import pyautogui as pt\n",
    "\n",
    "a = pt.confirm(text=\"당신은 잼민인가요?\", title=\"잼민인가요\", buttons=[\"네\", \"아니 난 잼민이가 아니야!\"])\n",
    "if a == \"네\":\n",
    "    pt.alert(text=\"당신은 잼민이입니다\", title=\"제목입니다\", button=(\"네\"))\n",
    "else:\n",
    "    pt.alert(text=\"그거그럿게하는거아닌데 어쩔티비 크쿠르삥뽕 마크 체험판 시간 제한 없애고 크리에이티브 모드 추가해라 이럴거면 아예 그냥 지워라 꽁짜 좋은것도 모르냐\", title=\"제목입니다\", button=(\"알았소이다\"))"
   ]
  },
  {
   "cell_type": "code",
   "execution_count": null,
   "id": "024bc162",
   "metadata": {},
   "outputs": [],
   "source": [
    "import pyautogui as pt\n",
    "\n",
    "a = pt.confirm(text=\"컴퓨터가 싫나요?\", title=\"핵폭탄\", buttons=[\"네\", \"아니!\"])\n",
    "if a == \"네\":\n",
    "    while True:\n",
    "        a = random.randint(1, 1000)\n",
    "        b = random.randint(1, 1000)\n",
    "        pt.moveTo(a, b)\n",
    "        pt.click()\n",
    "else:\n",
    "    pt.alert(text=\"그거그럿게하는거아닌데 어쩔티비 크쿠르삥뽕 마크 체험판 시간 제한 없애고 크리에이티브 모드 추가해라 이럴거면 아예 그냥 지워라 꽁짜 좋은것도 모르냐\", title=\"제목입니다\", button=(\"알았소이다\"))"
   ]
  },
  {
   "cell_type": "code",
   "execution_count": null,
   "id": "eddf1b0e",
   "metadata": {},
   "outputs": [],
   "source": []
  }
 ],
 "metadata": {
  "kernelspec": {
   "display_name": "Python 3 (ipykernel)",
   "language": "python",
   "name": "python3"
  },
  "language_info": {
   "codemirror_mode": {
    "name": "ipython",
    "version": 3
   },
   "file_extension": ".py",
   "mimetype": "text/x-python",
   "name": "python",
   "nbconvert_exporter": "python",
   "pygments_lexer": "ipython3",
   "version": "3.9.7"
  }
 },
 "nbformat": 4,
 "nbformat_minor": 5
}
