{
 "cells": [
  {
   "cell_type": "code",
   "execution_count": null,
   "id": "f5e9901c",
   "metadata": {},
   "outputs": [],
   "source": [
    "import time\n",
    "import pyautogui as pt\n",
    "INTER_VAL = 0.00001\n",
    "time.sleep(3)\n",
    "pt.write(\"Topokki Stir-Fried Rice Cake\",interval=INTER_VAL)\n",
    "pt.press(\"enter\")\n",
    "pt.write(\"Topokki is made by stir-frying rice cakes with vegetables and fish cakes in\",interval=INTER_VAL)\n",
    "pt.press(\"enter\")\n",
    "pt.write(\"gochujang(red pepper paste) sauce.\",interval=INTER_VAL)\n",
    "pt.press(\"enter\")\n",
    "pt.write(\"it is one of the most popular dishes in Korea.\",interval=INTER_VAL)\n",
    "pt.press(\"enter\")\n",
    "pt.write(\"There are many fusion Topokkis, such as Ramen Topokki and Cheese\",interval=INTER_VAL)\n",
    "pt.press(\"enter\")\n",
    "pt.write(\"Topokki (Topokki with cheese topping).\",interval=INTER_VAL)\n",
    "pt.press(\"enter\")"
   ]
  }
 ],
 "metadata": {
  "kernelspec": {
   "display_name": "Python 3 (ipykernel)",
   "language": "python",
   "name": "python3"
  },
  "language_info": {
   "codemirror_mode": {
    "name": "ipython",
    "version": 3
   },
   "file_extension": ".py",
   "mimetype": "text/x-python",
   "name": "python",
   "nbconvert_exporter": "python",
   "pygments_lexer": "ipython3",
   "version": "3.9.7"
  }
 },
 "nbformat": 4,
 "nbformat_minor": 5
}
