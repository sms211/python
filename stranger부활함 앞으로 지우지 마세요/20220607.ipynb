{
 "cells": [
  {
   "cell_type": "code",
   "execution_count": 67,
   "id": "ef156adc",
   "metadata": {},
   "outputs": [
    {
     "name": "stdout",
     "output_type": "stream",
     "text": [
      "hello world\n"
     ]
    }
   ],
   "source": [
    "print(\"hello world\")"
   ]
  },
  {
   "cell_type": "code",
   "execution_count": 73,
   "id": "5db19b6b",
   "metadata": {},
   "outputs": [],
   "source": [
    "from tkinter import *\n",
    "from tkinter import messagebox\n",
    "import threading, time\n",
    "\n",
    "root = Tk()\n",
    "root.title(\"10초동안 버튼 광클\")\n",
    "root.geometry(\"200x200+500+100\")\n",
    "\n",
    "\n",
    "count = 0 #클릭한 횟수 저장공간\n",
    "Stime = 10 #남은시간(초)\n",
    "\n",
    "\n",
    "def play():\n",
    "    btn2.place(x=60, y=80)\n",
    "    btn.place(x=-1000, y=-1000)\n",
    "    global Stime\n",
    "    global count\n",
    "    if Stime > 0:\n",
    "        root.after(1000, play)\n",
    "        Stime -= 1\n",
    "        timebox.config(text=f'남은 시간 {Stime}초')\n",
    "    else:\n",
    "        Stime = 0\n",
    "        if count < 10:\n",
    "            point = str(count) + \"점입니다...못하네요\"\n",
    "        elif 11 < count < 45:\n",
    "            point = str(count) + \"점입니다.보통이네요\"\n",
    "        else:\n",
    "            point = str(count) + \"점입니다.잘하네요\"\n",
    "\n",
    "        messagebox.showinfo(\"점수\", point)\n",
    "        btn3.place(x=60, y=80)\n",
    "\n",
    "def score():\n",
    "    global Stime\n",
    "    global count\n",
    "    if Stime > 0:\n",
    "        count += 1\n",
    "        pointbox.config(text=count)\n",
    "\n",
    "def replay():\n",
    "    global Stime\n",
    "    global count\n",
    "    Stime = 10\n",
    "    count = 0\n",
    "    btn3.place(x=-1000, y=-1000)\n",
    "    btn.place(x=60, y=80)\n",
    "\n",
    "#타이틀\n",
    "title = Label(root, text = \"마우스 광클 게임\")\n",
    "title.pack()\n",
    "\n",
    "#시간\n",
    "timebox = Label(root, text=f'남은 시간{Stime}')\n",
    "timebox.pack()\n",
    "\n",
    "#점수\n",
    "pointbox = Label(root, text=count)\n",
    "pointbox.pack()\n",
    "\n",
    "#버튼\n",
    "btn2 = Button(root, text=\"누르세요\",width=10, height=2, command=score)\n",
    "btn = Button(root, text=\"시작\",width=10, height=2, command=play)\n",
    "btn3 = Button(root, text=\"다시하기\",width=10, height=2, command=replay)\n",
    "btn.place(x=60, y=80)\n",
    "btn2.place(x=-1000, y=-100)\n",
    "\n",
    "root.mainloop()\n"
   ]
  },
  {
   "cell_type": "code",
   "execution_count": 83,
   "id": "b2ab4031",
   "metadata": {},
   "outputs": [
    {
     "name": "stdout",
     "output_type": "stream",
     "text": [
      "1\n",
      "1\n",
      "2\n"
     ]
    }
   ],
   "source": [
    "a = int(input())\n",
    "b = int(input())\n",
    "print(a + b)"
   ]
  },
  {
   "cell_type": "code",
   "execution_count": 80,
   "id": "48cc53c5",
   "metadata": {},
   "outputs": [
    {
     "name": "stdout",
     "output_type": "stream",
     "text": [
      "2\n"
     ]
    }
   ],
   "source": [
    "asdf = 1\n",
    "asdf = 2\n",
    "print(asdf)"
   ]
  },
  {
   "cell_type": "code",
   "execution_count": 84,
   "id": "102806a8",
   "metadata": {},
   "outputs": [
    {
     "name": "stdout",
     "output_type": "stream",
     "text": [
      "hello world\n"
     ]
    }
   ],
   "source": [
    "if asdf == 2:\n",
    "    print(\"hello world\")\n",
    "else:\n",
    "    print(\"no\")"
   ]
  },
  {
   "cell_type": "code",
   "execution_count": 85,
   "id": "d1864930",
   "metadata": {},
   "outputs": [
    {
     "name": "stdout",
     "output_type": "stream",
     "text": [
      "hello world\n"
     ]
    }
   ],
   "source": [
    "if asdf == 2 and a == 1:\n",
    "    print(\"hello world\")"
   ]
  },
  {
   "cell_type": "code",
   "execution_count": null,
   "id": "a2ef50b9",
   "metadata": {},
   "outputs": [],
   "source": []
  }
 ],
 "metadata": {
  "kernelspec": {
   "display_name": "Python 3 (ipykernel)",
   "language": "python",
   "name": "python3"
  },
  "language_info": {
   "codemirror_mode": {
    "name": "ipython",
    "version": 3
   },
   "file_extension": ".py",
   "mimetype": "text/x-python",
   "name": "python",
   "nbconvert_exporter": "python",
   "pygments_lexer": "ipython3",
   "version": "3.9.7"
  }
 },
 "nbformat": 4,
 "nbformat_minor": 5
}
