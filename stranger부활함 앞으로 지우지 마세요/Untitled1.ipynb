{
 "cells": [
  {
   "cell_type": "code",
   "execution_count": 1,
   "id": "9898ce2f",
   "metadata": {},
   "outputs": [],
   "source": [
    "import pyautogui as pg\n",
    "import time"
   ]
  },
  {
   "cell_type": "code",
   "execution_count": 103,
   "id": "289949dd",
   "metadata": {},
   "outputs": [],
   "source": [
    "time.sleep(3)\n",
    "pg.moveTo(875,312)\n",
    "pg.moveTo(542,620, 1)\n",
    "pg.moveTo(476, 620, 0.1)\n",
    "time.sleep(2)\n",
    "pg.moveTo(631, 505, 0.1)\n",
    "pg.moveTo(753, 342, 0.1)\n",
    "pg.moveTo(906, 329, 0.1)\n",
    "pg.moveTo(670, 369, 0.1)\n",
    "pg.moveTo(471, 488, 0.1)\n",
    "pg.moveTo(493, 680, 0.1)\n",
    "pg.moveTo(550, 680, 0.5)\n",
    "pg.moveTo(914, 677, 0.1)\n",
    "time.sleep(5)\n",
    "pg.moveTo(708, 369, 0.1)\n",
    "pg.moveTo(845, 406, 0.1)\n",
    "pg.moveTo(853, 479, 0.1)\n",
    "pg.moveTo(865, 668, 0.1)\n",
    "time.sleep(1)\n",
    "pg.moveTo(699, 315)\n",
    "pg.moveTo(438, 614, 0.1)\n",
    "pg.moveTo(876, 611, 0.1)\n",
    "pg.click()\n",
    "pg.moveTo(481, 633, 0.1)\n",
    "pg.moveTo(485, 490, 0.1)\n",
    "pg.moveTo(786, 484, 0.1)\n",
    "pg.moveTo(780, 352, 0.1)\n",
    "pg.moveTo(670, 351, 0.1)\n",
    "pg.moveTo(664, 300, 0.1)\n",
    "pg.moveTo(726, 676, 0.1)\n",
    "pg.moveTo(607, 511, 0.1)\n",
    "pg.moveTo(715, 470, 0.1)\n",
    "pg.moveTo(674, 396, 0.1)\n",
    "pg.moveTo(529, 389, 0.1)\n",
    "pg.moveTo(534, 359, 0.1)\n",
    "pg.moveTo(534, 639, 0.1)\n",
    "pg.click()\n",
    "pg.moveTo(911, 629, 0.1)\n",
    "pg.moveTo(382, 646, 0.1)\n",
    "pg.moveTo(735, 669, 0.1)\n",
    "pg.moveTo(750, 333, 0.1)"
   ]
  },
  {
   "cell_type": "code",
   "execution_count": 98,
   "id": "a0170927",
   "metadata": {
    "scrolled": false
   },
   "outputs": [
    {
     "data": {
      "text/plain": [
       "Point(x=750, y=333)"
      ]
     },
     "execution_count": 98,
     "metadata": {},
     "output_type": "execute_result"
    }
   ],
   "source": [
    "pg.position()"
   ]
  },
  {
   "cell_type": "code",
   "execution_count": 18,
   "id": "9a9111f7",
   "metadata": {},
   "outputs": [],
   "source": [
    "pg.moveTo(476, 620, 0.1)"
   ]
  },
  {
   "cell_type": "code",
   "execution_count": null,
   "id": "eec4d85c",
   "metadata": {},
   "outputs": [],
   "source": []
  }
 ],
 "metadata": {
  "kernelspec": {
   "display_name": "Python 3 (ipykernel)",
   "language": "python",
   "name": "python3"
  },
  "language_info": {
   "codemirror_mode": {
    "name": "ipython",
    "version": 3
   },
   "file_extension": ".py",
   "mimetype": "text/x-python",
   "name": "python",
   "nbconvert_exporter": "python",
   "pygments_lexer": "ipython3",
   "version": "3.9.7"
  }
 },
 "nbformat": 4,
 "nbformat_minor": 5
}
