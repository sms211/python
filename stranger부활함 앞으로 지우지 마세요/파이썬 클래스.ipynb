{
 "cells": [
  {
   "cell_type": "markdown",
   "id": "523d0b6c",
   "metadata": {},
   "source": [
    "### <p style=color:blue>4/26 파이썬 수업</p>"
   ]
  },
  {
   "cell_type": "code",
   "execution_count": 14,
   "id": "939fc45e",
   "metadata": {},
   "outputs": [],
   "source": [
    "class 용사:\n",
    "    def __init__(self,체력,공격력):\n",
    "        self.체력 = 체력\n",
    "        self.공격력 = 공격력\n",
    "        \n",
    "\n",
    "    def 기본공격(self):\n",
    "        print(\"기본공격!\")\n",
    "        return self.공격력\n",
    "    \n",
    "    def 피격(self,피격대미지):\n",
    "        self.체력 -= 피격대미지"
   ]
  },
  {
   "cell_type": "code",
   "execution_count": 15,
   "id": "d99d6d71",
   "metadata": {},
   "outputs": [],
   "source": [
    "스티브 = 용사(100, 8)\n",
    "알렉스 = 용사(100, 11)"
   ]
  },
  {
   "cell_type": "code",
   "execution_count": 24,
   "id": "f0b11196",
   "metadata": {
    "scrolled": true
   },
   "outputs": [
    {
     "data": {
      "text/plain": [
       "97"
      ]
     },
     "execution_count": 24,
     "metadata": {},
     "output_type": "execute_result"
    }
   ],
   "source": [
    "스티브.체력"
   ]
  },
  {
   "cell_type": "code",
   "execution_count": 25,
   "id": "27147f46",
   "metadata": {},
   "outputs": [
    {
     "data": {
      "text/plain": [
       "97"
      ]
     },
     "execution_count": 25,
     "metadata": {},
     "output_type": "execute_result"
    }
   ],
   "source": [
    "알렉스.체력"
   ]
  },
  {
   "cell_type": "code",
   "execution_count": 18,
   "id": "f8e72052",
   "metadata": {},
   "outputs": [
    {
     "data": {
      "text/plain": [
       "8"
      ]
     },
     "execution_count": 18,
     "metadata": {},
     "output_type": "execute_result"
    }
   ],
   "source": [
    "스티브.공격력"
   ]
  },
  {
   "cell_type": "code",
   "execution_count": 19,
   "id": "fe24c5d4",
   "metadata": {},
   "outputs": [
    {
     "data": {
      "text/plain": [
       "11"
      ]
     },
     "execution_count": 19,
     "metadata": {},
     "output_type": "execute_result"
    }
   ],
   "source": [
    "알렉스.공격력"
   ]
  },
  {
   "cell_type": "code",
   "execution_count": 20,
   "id": "f90368ab",
   "metadata": {},
   "outputs": [
    {
     "name": "stdout",
     "output_type": "stream",
     "text": [
      "기본공격!\n"
     ]
    },
    {
     "data": {
      "text/plain": [
       "8"
      ]
     },
     "execution_count": 20,
     "metadata": {},
     "output_type": "execute_result"
    }
   ],
   "source": [
    "스티브.기본공격()"
   ]
  },
  {
   "cell_type": "code",
   "execution_count": 21,
   "id": "11262b53",
   "metadata": {
    "scrolled": true
   },
   "outputs": [
    {
     "name": "stdout",
     "output_type": "stream",
     "text": [
      "기본공격!\n"
     ]
    },
    {
     "data": {
      "text/plain": [
       "11"
      ]
     },
     "execution_count": 21,
     "metadata": {},
     "output_type": "execute_result"
    }
   ],
   "source": [
    "알렉스.기본공격()"
   ]
  },
  {
   "cell_type": "code",
   "execution_count": 22,
   "id": "2028fea7",
   "metadata": {},
   "outputs": [],
   "source": [
    "스티브.피격(3)"
   ]
  },
  {
   "cell_type": "code",
   "execution_count": 23,
   "id": "9502bd60",
   "metadata": {},
   "outputs": [],
   "source": [
    "알렉스.피격(3)"
   ]
  },
  {
   "cell_type": "code",
   "execution_count": null,
   "id": "5f9bbb1f",
   "metadata": {},
   "outputs": [],
   "source": []
  }
 ],
 "metadata": {
  "kernelspec": {
   "display_name": "Python 3 (ipykernel)",
   "language": "python",
   "name": "python3"
  },
  "language_info": {
   "codemirror_mode": {
    "name": "ipython",
    "version": 3
   },
   "file_extension": ".py",
   "mimetype": "text/x-python",
   "name": "python",
   "nbconvert_exporter": "python",
   "pygments_lexer": "ipython3",
   "version": "3.9.7"
  }
 },
 "nbformat": 4,
 "nbformat_minor": 5
}
