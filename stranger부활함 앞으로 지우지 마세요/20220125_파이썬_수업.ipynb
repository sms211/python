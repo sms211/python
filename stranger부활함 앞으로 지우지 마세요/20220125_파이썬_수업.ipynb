{
 "cells": [
  {
   "cell_type": "markdown",
   "id": "57cf032d",
   "metadata": {},
   "source": [
    "### <p style = color:blue> 20220125 파이썬 수업</p>"
   ]
  },
  {
   "cell_type": "code",
   "execution_count": 9,
   "id": "4f038577",
   "metadata": {
    "scrolled": true
   },
   "outputs": [
    {
     "name": "stdout",
     "output_type": "stream",
     "text": [
      "80.0\n"
     ]
    },
    {
     "data": {
      "text/plain": [
       "80.0"
      ]
     },
     "execution_count": 9,
     "metadata": {},
     "output_type": "execute_result"
    }
   ],
   "source": [
    "def avg_new(score):\n",
    "    sum_ = sum(score)\n",
    "    len_ = len(score)\n",
    "    result = sum_ / len_\n",
    "    print(result)\n",
    "    return result\n",
    "score = [80, 90, 70]\n",
    "avg_new(score)"
   ]
  },
  {
   "cell_type": "code",
   "execution_count": 15,
   "id": "f7fbb713",
   "metadata": {},
   "outputs": [
    {
     "name": "stdout",
     "output_type": "stream",
     "text": [
      "13\n",
      "13은 홀수 입니다\n"
     ]
    }
   ],
   "source": [
    "num = int(input())\n",
    "if num % 2 == 1:\n",
    "    print(\"{}은 홀수입니다\".format(num))\n",
    "else:\n",
    "    print(\"{}은 짝수입니다\".format(num))"
   ]
  },
  {
   "cell_type": "code",
   "execution_count": 14,
   "id": "e358c304",
   "metadata": {},
   "outputs": [
    {
     "name": "stdout",
     "output_type": "stream",
     "text": [
      "13 입니다\n"
     ]
    }
   ],
   "source": [
    "print(\"%d 입니다\"%num)"
   ]
  },
  {
   "cell_type": "code",
   "execution_count": 18,
   "id": "687fb9c4",
   "metadata": {},
   "outputs": [
    {
     "name": "stdout",
     "output_type": "stream",
     "text": [
      "13은 홀수입니다\n"
     ]
    }
   ],
   "source": [
    "print(f\"{num}은 홀수입니다.\")"
   ]
  },
  {
   "cell_type": "code",
   "execution_count": 22,
   "id": "10adc80a",
   "metadata": {},
   "outputs": [
    {
     "data": {
      "text/plain": [
       "'hell'"
      ]
     },
     "execution_count": 22,
     "metadata": {},
     "output_type": "execute_result"
    }
   ],
   "source": [
    "string = \"hello\"\n",
    "string[0:4]"
   ]
  },
  {
   "cell_type": "code",
   "execution_count": 30,
   "id": "6eb91b02",
   "metadata": {},
   "outputs": [
    {
     "name": "stdout",
     "output_type": "stream",
     "text": [
      "881120\n",
      "1068234\n"
     ]
    }
   ],
   "source": [
    "number = \"881120-1068234\"\n",
    "front = number[:6]\n",
    "end = number[7:]\n",
    "print(front)\n",
    "print(end)"
   ]
  },
  {
   "cell_type": "code",
   "execution_count": 35,
   "id": "1de4e6d1",
   "metadata": {},
   "outputs": [
    {
     "name": "stdout",
     "output_type": "stream",
     "text": [
      "남자입니다\n"
     ]
    }
   ],
   "source": [
    "if number[7] == \"1\":\n",
    "    print(\"남자입니다\")\n",
    "elif number[7] == \"2\":\n",
    "    print(\"여자입니다\")\n",
    "else:\n",
    "    print(\"주민번호 x\")"
   ]
  },
  {
   "cell_type": "code",
   "execution_count": 34,
   "id": "32b2079b",
   "metadata": {},
   "outputs": [
    {
     "name": "stdout",
     "output_type": "stream",
     "text": [
      "881120-1068234\n"
     ]
    }
   ],
   "source": [
    "print(number)"
   ]
  },
  {
   "cell_type": "markdown",
   "id": "3c8b8742",
   "metadata": {},
   "source": [
    "<p style=color:green>마우스 자동화</p>"
   ]
  },
  {
   "cell_type": "code",
   "execution_count": 37,
   "id": "0e8de78e",
   "metadata": {
    "scrolled": true
   },
   "outputs": [
    {
     "name": "stdout",
     "output_type": "stream",
     "text": [
      "Requirement already satisfied: pyautogui in c:\\users\\a\\anaconda3\\lib\\site-packages (0.9.53)\n",
      "Requirement already satisfied: PyTweening>=1.0.1 in c:\\users\\a\\anaconda3\\lib\\site-packages (from pyautogui) (1.0.4)\n",
      "Requirement already satisfied: pygetwindow>=0.0.5 in c:\\users\\a\\anaconda3\\lib\\site-packages (from pyautogui) (0.0.9)\n",
      "Requirement already satisfied: mouseinfo in c:\\users\\a\\anaconda3\\lib\\site-packages (from pyautogui) (0.1.3)\n",
      "Requirement already satisfied: pyscreeze>=0.1.21 in c:\\users\\a\\anaconda3\\lib\\site-packages (from pyautogui) (0.1.28)\n",
      "Requirement already satisfied: pymsgbox in c:\\users\\a\\anaconda3\\lib\\site-packages (from pyautogui) (1.0.9)\n",
      "Requirement already satisfied: pyrect in c:\\users\\a\\anaconda3\\lib\\site-packages (from pygetwindow>=0.0.5->pyautogui) (0.1.4)\n",
      "Requirement already satisfied: pyperclip in c:\\users\\a\\anaconda3\\lib\\site-packages (from mouseinfo->pyautogui) (1.8.2)\n"
     ]
    }
   ],
   "source": [
    "!pip install pyautogui"
   ]
  },
  {
   "cell_type": "code",
   "execution_count": 41,
   "id": "5e47bba8",
   "metadata": {},
   "outputs": [],
   "source": [
    "import pyautogui"
   ]
  },
  {
   "cell_type": "code",
   "execution_count": 84,
   "id": "2671465c",
   "metadata": {},
   "outputs": [
    {
     "name": "stdout",
     "output_type": "stream",
     "text": [
      "Size(width=1366, height=768)\n"
     ]
    }
   ],
   "source": [
    "print(pyautogui.size())"
   ]
  },
  {
   "cell_type": "code",
   "execution_count": 79,
   "id": "021f27b2",
   "metadata": {
    "scrolled": false
   },
   "outputs": [
    {
     "name": "stdout",
     "output_type": "stream",
     "text": [
      "Point(x=460, y=418)\n"
     ]
    }
   ],
   "source": [
    "print(pyautogui.position())"
   ]
  },
  {
   "cell_type": "code",
   "execution_count": 52,
   "id": "63aa0c70",
   "metadata": {},
   "outputs": [],
   "source": [
    "pyautogui.moveTo(16, 752)\n",
    "pyautogui.click()"
   ]
  },
  {
   "cell_type": "code",
   "execution_count": 56,
   "id": "af6ca3fb",
   "metadata": {},
   "outputs": [],
   "source": [
    "pyautogui.moveTo(754, 375)\n",
    "pyautogui.click(clicks=10, interval=1)"
   ]
  },
  {
   "cell_type": "code",
   "execution_count": 58,
   "id": "76ffd445",
   "metadata": {},
   "outputs": [],
   "source": [
    "pyautogui.dragTo(539, 80, 2)"
   ]
  },
  {
   "cell_type": "code",
   "execution_count": 83,
   "id": "8a81c4e7",
   "metadata": {},
   "outputs": [],
   "source": [
    "import time\n",
    "pyautogui.moveTo(666, 741, 1)\n",
    "pyautogui.click(button=\"right\")\n",
    "pyautogui.moveTo(648, 676, 1)\n",
    "pyautogui.click()\n",
    "pyautogui.moveTo(525, 512, 1)\n",
    "pyautogui.click()\n",
    "pyautogui.moveTo(422, 117, 1)\n",
    "pyautogui.click()\n",
    "pyautogui.moveTo(526, 322, 1)\n",
    "pyautogui.click()\n",
    "pyautogui.moveTo(351, 470, 1)\n",
    "pyautogui.click()\n",
    "pyautogui.moveTo(460, 418, 1)\n",
    "time.sleep(7)\n",
    "pyautogui.click()"
   ]
  },
  {
   "cell_type": "code",
   "execution_count": null,
   "id": "e9bd914c",
   "metadata": {},
   "outputs": [],
   "source": [
    "pyautogui.moveTo(460, 418, 1)\n",
    "pyautogui.moveTo(16, 752, 1)\n",
    "pyautogui.click()\n",
    "time.sleep(1)\n",
    "pyautogui.moveTo(23, 704, 1)\n",
    "pyautogui.click()\n",
    "pyautogui.moveTo(94, 628, 1)\n",
    "time.sleep(1)\n",
    "pyautogui.click()"
   ]
  }
 ],
 "metadata": {
  "kernelspec": {
   "display_name": "Python 3 (ipykernel)",
   "language": "python",
   "name": "python3"
  },
  "language_info": {
   "codemirror_mode": {
    "name": "ipython",
    "version": 3
   },
   "file_extension": ".py",
   "mimetype": "text/x-python",
   "name": "python",
   "nbconvert_exporter": "python",
   "pygments_lexer": "ipython3",
   "version": "3.9.7"
  }
 },
 "nbformat": 4,
 "nbformat_minor": 5
}
